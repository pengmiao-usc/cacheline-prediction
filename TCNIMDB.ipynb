{
 "cells": [
  {
   "cell_type": "markdown",
   "id": "quantitative-sodium",
   "metadata": {},
   "source": [
    "# TCN IMBD\n",
    "### Load Packages"
   ]
  },
  {
   "cell_type": "code",
   "execution_count": 1,
   "id": "valid-montreal",
   "metadata": {},
   "outputs": [
    {
     "name": "stderr",
     "output_type": "stream",
     "text": [
      "/Users/nikhilpatel/opt/anaconda3/envs/tcn-research/lib/python3.7/site-packages/tensorflow/python/framework/dtypes.py:516: FutureWarning: Passing (type, 1) or '1type' as a synonym of type is deprecated; in a future version of numpy, it will be understood as (type, (1,)) / '(1,)type'.\n",
      "  _np_qint8 = np.dtype([(\"qint8\", np.int8, 1)])\n",
      "/Users/nikhilpatel/opt/anaconda3/envs/tcn-research/lib/python3.7/site-packages/tensorflow/python/framework/dtypes.py:517: FutureWarning: Passing (type, 1) or '1type' as a synonym of type is deprecated; in a future version of numpy, it will be understood as (type, (1,)) / '(1,)type'.\n",
      "  _np_quint8 = np.dtype([(\"quint8\", np.uint8, 1)])\n",
      "/Users/nikhilpatel/opt/anaconda3/envs/tcn-research/lib/python3.7/site-packages/tensorflow/python/framework/dtypes.py:518: FutureWarning: Passing (type, 1) or '1type' as a synonym of type is deprecated; in a future version of numpy, it will be understood as (type, (1,)) / '(1,)type'.\n",
      "  _np_qint16 = np.dtype([(\"qint16\", np.int16, 1)])\n",
      "/Users/nikhilpatel/opt/anaconda3/envs/tcn-research/lib/python3.7/site-packages/tensorflow/python/framework/dtypes.py:519: FutureWarning: Passing (type, 1) or '1type' as a synonym of type is deprecated; in a future version of numpy, it will be understood as (type, (1,)) / '(1,)type'.\n",
      "  _np_quint16 = np.dtype([(\"quint16\", np.uint16, 1)])\n",
      "/Users/nikhilpatel/opt/anaconda3/envs/tcn-research/lib/python3.7/site-packages/tensorflow/python/framework/dtypes.py:520: FutureWarning: Passing (type, 1) or '1type' as a synonym of type is deprecated; in a future version of numpy, it will be understood as (type, (1,)) / '(1,)type'.\n",
      "  _np_qint32 = np.dtype([(\"qint32\", np.int32, 1)])\n",
      "/Users/nikhilpatel/opt/anaconda3/envs/tcn-research/lib/python3.7/site-packages/tensorflow/python/framework/dtypes.py:525: FutureWarning: Passing (type, 1) or '1type' as a synonym of type is deprecated; in a future version of numpy, it will be understood as (type, (1,)) / '(1,)type'.\n",
      "  np_resource = np.dtype([(\"resource\", np.ubyte, 1)])\n",
      "/Users/nikhilpatel/opt/anaconda3/envs/tcn-research/lib/python3.7/site-packages/tensorboard/compat/tensorflow_stub/dtypes.py:541: FutureWarning: Passing (type, 1) or '1type' as a synonym of type is deprecated; in a future version of numpy, it will be understood as (type, (1,)) / '(1,)type'.\n",
      "  _np_qint8 = np.dtype([(\"qint8\", np.int8, 1)])\n",
      "/Users/nikhilpatel/opt/anaconda3/envs/tcn-research/lib/python3.7/site-packages/tensorboard/compat/tensorflow_stub/dtypes.py:542: FutureWarning: Passing (type, 1) or '1type' as a synonym of type is deprecated; in a future version of numpy, it will be understood as (type, (1,)) / '(1,)type'.\n",
      "  _np_quint8 = np.dtype([(\"quint8\", np.uint8, 1)])\n",
      "/Users/nikhilpatel/opt/anaconda3/envs/tcn-research/lib/python3.7/site-packages/tensorboard/compat/tensorflow_stub/dtypes.py:543: FutureWarning: Passing (type, 1) or '1type' as a synonym of type is deprecated; in a future version of numpy, it will be understood as (type, (1,)) / '(1,)type'.\n",
      "  _np_qint16 = np.dtype([(\"qint16\", np.int16, 1)])\n",
      "/Users/nikhilpatel/opt/anaconda3/envs/tcn-research/lib/python3.7/site-packages/tensorboard/compat/tensorflow_stub/dtypes.py:544: FutureWarning: Passing (type, 1) or '1type' as a synonym of type is deprecated; in a future version of numpy, it will be understood as (type, (1,)) / '(1,)type'.\n",
      "  _np_quint16 = np.dtype([(\"quint16\", np.uint16, 1)])\n",
      "/Users/nikhilpatel/opt/anaconda3/envs/tcn-research/lib/python3.7/site-packages/tensorboard/compat/tensorflow_stub/dtypes.py:545: FutureWarning: Passing (type, 1) or '1type' as a synonym of type is deprecated; in a future version of numpy, it will be understood as (type, (1,)) / '(1,)type'.\n",
      "  _np_qint32 = np.dtype([(\"qint32\", np.int32, 1)])\n",
      "/Users/nikhilpatel/opt/anaconda3/envs/tcn-research/lib/python3.7/site-packages/tensorboard/compat/tensorflow_stub/dtypes.py:550: FutureWarning: Passing (type, 1) or '1type' as a synonym of type is deprecated; in a future version of numpy, it will be understood as (type, (1,)) / '(1,)type'.\n",
      "  np_resource = np.dtype([(\"resource\", np.ubyte, 1)])\n"
     ]
    }
   ],
   "source": [
    "import numpy as np\n",
    "from tensorflow.keras import Model, Input\n",
    "from tensorflow.keras.datasets import imdb\n",
    "from tensorflow.keras.layers import Dense, Dropout, Embedding\n",
    "from tensorflow.keras.preprocessing import sequence\n",
    "from tcn import TCN"
   ]
  },
  {
   "cell_type": "markdown",
   "id": "rolled-hearts",
   "metadata": {},
   "source": [
    "### Hyperparameters"
   ]
  },
  {
   "cell_type": "code",
   "execution_count": 2,
   "id": "given-pharmacy",
   "metadata": {},
   "outputs": [],
   "source": [
    "max_features = 2000\n",
    "maxlen = 100\n",
    "batch_size = 32"
   ]
  },
  {
   "cell_type": "markdown",
   "id": "developed-trade",
   "metadata": {},
   "source": [
    "### Dataset Processing"
   ]
  },
  {
   "cell_type": "code",
   "execution_count": 3,
   "id": "occasional-residence",
   "metadata": {},
   "outputs": [
    {
     "name": "stderr",
     "output_type": "stream",
     "text": [
      "/Users/nikhilpatel/opt/anaconda3/envs/tcn-research/lib/python3.7/site-packages/tensorflow/python/keras/datasets/imdb.py:128: VisibleDeprecationWarning: Creating an ndarray from ragged nested sequences (which is a list-or-tuple of lists-or-tuples-or ndarrays with different lengths or shapes) is deprecated. If you meant to do this, you must specify 'dtype=object' when creating the ndarray\n",
      "  x_train, y_train = np.array(xs[:idx]), np.array(labels[:idx])\n",
      "/Users/nikhilpatel/opt/anaconda3/envs/tcn-research/lib/python3.7/site-packages/tensorflow/python/keras/datasets/imdb.py:129: VisibleDeprecationWarning: Creating an ndarray from ragged nested sequences (which is a list-or-tuple of lists-or-tuples-or ndarrays with different lengths or shapes) is deprecated. If you meant to do this, you must specify 'dtype=object' when creating the ndarray\n",
      "  x_test, y_test = np.array(xs[idx:]), np.array(labels[idx:])\n"
     ]
    }
   ],
   "source": [
    "(x_train, y_train), (x_test, y_test) = imdb.load_data(num_words=max_features)"
   ]
  },
  {
   "cell_type": "code",
   "execution_count": 4,
   "id": "small-spiritual",
   "metadata": {},
   "outputs": [],
   "source": [
    "x_train = sequence.pad_sequences(x_train, maxlen = maxlen)\n",
    "x_test = sequence.pad_sequences(x_test, maxlen = maxlen)\n",
    "y_train = np.array(y_train)\n",
    "y_test = np.array(y_test)"
   ]
  },
  {
   "cell_type": "markdown",
   "id": "demonstrated-journalism",
   "metadata": {},
   "source": [
    "### Design Model"
   ]
  },
  {
   "cell_type": "code",
   "execution_count": 5,
   "id": "committed-spirituality",
   "metadata": {},
   "outputs": [
    {
     "name": "stdout",
     "output_type": "stream",
     "text": [
      "WARNING:tensorflow:From /Users/nikhilpatel/opt/anaconda3/envs/tcn-research/lib/python3.7/site-packages/tensorflow/python/keras/initializers.py:119: calling RandomUniform.__init__ (from tensorflow.python.ops.init_ops) with dtype is deprecated and will be removed in a future version.\n",
      "Instructions for updating:\n",
      "Call initializer instance with the dtype argument instead of passing it to the constructor\n",
      "WARNING:tensorflow:From /Users/nikhilpatel/opt/anaconda3/envs/tcn-research/lib/python3.7/site-packages/tensorflow/python/ops/init_ops.py:1251: calling VarianceScaling.__init__ (from tensorflow.python.ops.init_ops) with dtype is deprecated and will be removed in a future version.\n",
      "Instructions for updating:\n",
      "Call initializer instance with the dtype argument instead of passing it to the constructor\n",
      "WARNING:tensorflow:From /Users/nikhilpatel/opt/anaconda3/envs/tcn-research/lib/python3.7/site-packages/tensorflow/python/ops/nn_impl.py:180: add_dispatch_support.<locals>.wrapper (from tensorflow.python.ops.array_ops) is deprecated and will be removed in a future version.\n",
      "Instructions for updating:\n",
      "Use tf.where in 2.0, which has the same broadcast rule as np.where\n",
      "Model: \"model\"\n",
      "_________________________________________________________________\n",
      "Layer (type)                 Output Shape              Param #   \n",
      "=================================================================\n",
      "input_1 (InputLayer)         [(None, 100)]             0         \n",
      "_________________________________________________________________\n",
      "embedding (Embedding)        (None, 100, 128)          256000    \n",
      "_________________________________________________________________\n",
      "tcn (TCN)                    (None, 64)                377792    \n",
      "_________________________________________________________________\n",
      "dropout (Dropout)            (None, 64)                0         \n",
      "_________________________________________________________________\n",
      "dense (Dense)                (None, 1)                 65        \n",
      "=================================================================\n",
      "Total params: 633,857\n",
      "Trainable params: 633,857\n",
      "Non-trainable params: 0\n",
      "_________________________________________________________________\n"
     ]
    }
   ],
   "source": [
    "i = Input(shape = (maxlen,))\n",
    "x = Embedding(max_features, 128)(i)\n",
    "x = TCN(nb_filters = 64, kernel_size=6, dilations=[1,2,4,8,16,32,64])(x)\n",
    "x = Dropout(0.5)(x)\n",
    "x = Dense(1, activation = 'sigmoid')(x)\n",
    "model = Model(inputs=[i], outputs=[x])\n",
    "model.compile(optimizer='sgd', loss='binary_crossentropy', metrics = ['accuracy'])\n",
    "model.summary()"
   ]
  },
  {
   "cell_type": "code",
   "execution_count": 1,
   "id": "productive-addition",
   "metadata": {},
   "outputs": [
    {
     "name": "stdout",
     "output_type": "stream",
     "text": [
      "Receptive field size = 64\n",
      "Model: \"sequential\"\n",
      "_________________________________________________________________\n",
      "Layer (type)                 Output Shape              Param #   \n",
      "=================================================================\n",
      "residual_block_0 (ResidualBl [(None, 20, 64), (None, 2 8576      \n",
      "_________________________________________________________________\n",
      "residual_block_1 (ResidualBl [(None, 20, 64), (None, 2 16512     \n",
      "_________________________________________________________________\n",
      "residual_block_2 (ResidualBl [(None, 20, 64), (None, 2 16512     \n",
      "_________________________________________________________________\n",
      "residual_block_3 (ResidualBl [(None, 20, 64), (None, 2 16512     \n",
      "_________________________________________________________________\n",
      "residual_block_4 (ResidualBl [(None, 20, 64), (None, 2 16512     \n",
      "_________________________________________________________________\n",
      "residual_block_5 (ResidualBl [(None, 20, 64), (None, 2 16512     \n",
      "_________________________________________________________________\n",
      "lambda (Lambda)              (None, 64)                0         \n",
      "_________________________________________________________________\n",
      "dense (Dense)                (None, 1)                 65        \n",
      "=================================================================\n",
      "Total params: 91,201\n",
      "Trainable params: 91,201\n",
      "Non-trainable params: 0\n",
      "_________________________________________________________________\n",
      "Train on 800 samples, validate on 200 samples\n",
      "Epoch 1/10\n",
      "800/800 [==============================] - 6s 7ms/sample - loss: 0.1097 - val_loss: 0.0040\n",
      "Epoch 2/10\n",
      "800/800 [==============================] - 1s 1ms/sample - loss: 9.6019e-04 - val_loss: 1.0591e-04\n",
      "Epoch 3/10\n",
      "800/800 [==============================] - 1s 2ms/sample - loss: 8.3001e-05 - val_loss: 3.6746e-05\n",
      "Epoch 4/10\n",
      "800/800 [==============================] - 1s 1ms/sample - loss: 8.8005e-06 - val_loss: 1.9388e-06\n",
      "Epoch 5/10\n",
      "800/800 [==============================] - 1s 1ms/sample - loss: 7.4472e-07 - val_loss: 1.8617e-07\n",
      "Epoch 6/10\n",
      "800/800 [==============================] - 1s 1ms/sample - loss: 5.7753e-08 - val_loss: 1.5988e-09\n",
      "Epoch 7/10\n",
      "800/800 [==============================] - 1s 1ms/sample - loss: 3.7992e-09 - val_loss: 3.4768e-11\n",
      "Epoch 8/10\n",
      "800/800 [==============================] - 1s 1ms/sample - loss: 5.0573e-10 - val_loss: 7.3526e-11\n",
      "Epoch 9/10\n",
      "800/800 [==============================] - 1s 1ms/sample - loss: 1.4441e-10 - val_loss: 7.8256e-11\n",
      "Epoch 10/10\n",
      "800/800 [==============================] - 1s 1ms/sample - loss: 5.7758e-11 - val_loss: 2.6107e-11\n"
     ]
    },
    {
     "data": {
      "text/plain": [
       "<tensorflow.python.keras.callbacks.History at 0x7fa21b11ccd0>"
      ]
     },
     "execution_count": 1,
     "metadata": {},
     "output_type": "execute_result"
    }
   ],
   "source": [
    "from tcn import TCN, tcn_full_summary\n",
    "from tensorflow.keras.layers import Dense\n",
    "from tensorflow.keras.models import Sequential\n",
    "\n",
    "# if time_steps > tcn_layer.receptive_field, then we should not\n",
    "# be able to solve this task.\n",
    "batch_size, time_steps, input_dim = None, 20, 1\n",
    "\n",
    "\n",
    "def get_x_y(size=1000):\n",
    "    import numpy as np\n",
    "    pos_indices = np.random.choice(size, size=int(size // 2), replace=False)\n",
    "    x_train = np.zeros(shape=(size, time_steps, 1))\n",
    "    y_train = np.zeros(shape=(size, 1))\n",
    "    x_train[pos_indices, 0] = 1.0  # we introduce the target in the first timestep of the sequence.\n",
    "    y_train[pos_indices, 0] = 1.0  # the task is to see if the TCN can go back in time to find it.\n",
    "    return x_train, y_train\n",
    "\n",
    "\n",
    "tcn_layer = TCN(input_shape=(time_steps, input_dim))\n",
    "print('Receptive field size =', tcn_layer.receptive_field)\n",
    "\n",
    "m = Sequential([\n",
    "    tcn_layer,\n",
    "    Dense(1)\n",
    "])\n",
    "\n",
    "m.compile(optimizer='adam', loss='mse')\n",
    "\n",
    "tcn_full_summary(m, expand_residual_blocks=False)\n",
    "\n",
    "x, y = get_x_y()\n",
    "m.fit(x, y, epochs=10, validation_split=0.2)"
   ]
  },
  {
   "cell_type": "code",
   "execution_count": null,
   "id": "minor-rocket",
   "metadata": {},
   "outputs": [],
   "source": [
    "history = model.fit(x_train, y_train, batch_size = batch_size, epochs = 20, validation_data = (x_test, y_test))"
   ]
  }
 ],
 "metadata": {
  "kernelspec": {
   "display_name": "Python 3",
   "language": "python",
   "name": "python3"
  },
  "language_info": {
   "codemirror_mode": {
    "name": "ipython",
    "version": 3
   },
   "file_extension": ".py",
   "mimetype": "text/x-python",
   "name": "python",
   "nbconvert_exporter": "python",
   "pygments_lexer": "ipython3",
   "version": "3.7.9"
  }
 },
 "nbformat": 4,
 "nbformat_minor": 5
}
