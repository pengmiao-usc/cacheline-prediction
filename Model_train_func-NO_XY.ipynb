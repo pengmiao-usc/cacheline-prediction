{
 "cells": [
  {
   "cell_type": "markdown",
   "metadata": {},
   "source": [
    "# Train model using trace dataset, funtion,Feb 01,2021"
   ]
  },
  {
   "cell_type": "markdown",
   "metadata": {},
   "source": [
    "# XY no saved, since it take too much storage"
   ]
  },
  {
   "cell_type": "code",
   "execution_count": 1,
   "metadata": {},
   "outputs": [
    {
     "name": "stderr",
     "output_type": "stream",
     "text": [
      "Using TensorFlow backend.\n"
     ]
    }
   ],
   "source": [
    "import csv\n",
    "import os\n",
    "import pandas as pd\n",
    "import numpy as np\n",
    "from numpy import argmax\n",
    "import pickle\n",
    "import pdb\n",
    "import functions as f\n",
    "from functions import convert_to_binary,create_windowed_dataset\n",
    "import glob\n",
    "from tqdm import tqdm\n",
    "from tensorflow.keras import Model, Input\n",
    "from tensorflow.keras.datasets import imdb\n",
    "from tensorflow.keras.layers import Dense, Dropout, Embedding\n",
    "from tensorflow.keras.preprocessing import sequence\n",
    "from tcn import TCN\n",
    "from tensorflow.keras.models import load_model, Sequential\n",
    "from sklearn.metrics import roc_curve,f1_score,recall_score,precision_score,accuracy_score\n",
    "import pandas as pd\n",
    "from tcn_model import tcn_model\n",
    "pd.options.mode.chained_assignment = None \n"
   ]
  },
  {
   "cell_type": "markdown",
   "metadata": {},
   "source": [
    "## Functions"
   ]
  },
  {
   "cell_type": "markdown",
   "metadata": {},
   "source": [
    "### Function: generate X and Y"
   ]
  },
  {
   "cell_type": "code",
   "execution_count": 2,
   "metadata": {},
   "outputs": [],
   "source": [
    "#data_file=file_list[1]\n",
    "\n",
    "def gen_XY(data_file,file_name,Length=None):\n",
    "    from functions import convert_to_binary,create_windowed_dataset\n",
    "    if Length!=None:\n",
    "        df = pd.read_pickle(data_file)[0:Length]\n",
    "    else:\n",
    "        df = pd.read_pickle(data_file)\n",
    "    #%% Binarize \n",
    "\n",
    "    BINARY_BIT_SIZE = 64-6\n",
    "    look_back = 3\n",
    "\n",
    "    #b_list = [\"delta_token\", \"page_address\", \"page_offset\", \"cache_line_index\"]\n",
    "    b_list = [\"page_cache_index\"]\n",
    "    for item in b_list:\n",
    "        X = np.array(df[item]).reshape(-1,1)\n",
    "        s=item+\"_bin\"\n",
    "        df[s]=list(convert_to_binary(data=X,bit_size=BINARY_BIT_SIZE))\n",
    "    print(\"Binarization completed\")\n",
    "    #%% X: input data\n",
    "    X = create_windowed_dataset(list(df[\"page_cache_index_bin\"]), look_back)\n",
    "    X = X.reshape(len(X),-1)\n",
    "    print(\"Look-back window completed\")\n",
    "    BITMAP_SIZE = 64\n",
    "    def to_bitmap(n): \n",
    "        l0=np.zeros((BITMAP_SIZE),dtype = int)\n",
    "        if(len(n)>0):\n",
    "            for x in n:\n",
    "                l0[x]=1\n",
    "            l1=list(l0)\n",
    "            l1.reverse()\n",
    "            return l1\n",
    "        else:\n",
    "            return list(l0)\n",
    "    print(\"Bitmap completed\")   \n",
    "    numbers=list(df[\"label\"][look_back:])\n",
    "    result = map(to_bitmap, numbers) \n",
    "    #print(list(result)) \n",
    "\n",
    "    #df[\"label_bitmap\"]=list(result)\n",
    "\n",
    "    y=np.array(list(result))\n",
    "    df_x=df[look_back:]\n",
    "    df_x['X']=list(X)\n",
    "    df_x['y']=list(y)\n",
    "\n",
    "    print(X.shape,y.shape)\n",
    "    #df_x.to_pickle(XY_SAVE_PATH+file_name+\"_xy.pk\")\n",
    "    #print(\"pickle saved:\",XY_SAVE_PATH+file_name+\"_xy.pk\")\n",
    "    \n",
    "    split1=len(df_x)//2\n",
    "    split2=len(df_x)*3//4\n",
    "    \n",
    "    df_train=df_x[0:split1]\n",
    "    df_val=df_x[split1:split2]\n",
    "    df_eva=df_x[split2:]\n",
    "    \n",
    "    return df_train,df_val,df_eva"
   ]
  },
  {
   "cell_type": "markdown",
   "metadata": {},
   "source": [
    "### Function: Train_test_split "
   ]
  },
  {
   "cell_type": "code",
   "execution_count": 3,
   "metadata": {},
   "outputs": [],
   "source": [
    "def df_to_XY(df_train,df_val):\n",
    "\n",
    "    X_train = np.stack(df_train['X'])\n",
    "    y_train =np.stack(df_train['y'])\n",
    "\n",
    "    X_val = np.stack(df_val['X'])\n",
    "    y_val = np.stack(df_val['y'])\n",
    "\n",
    "    print(\"X shape:\",X_train.shape,X_val.shape)\n",
    "    print(\"y shape:\",y_train.shape,y_val.shape)\n",
    "    \n",
    "    return X_train,y_train,X_val,y_val"
   ]
  },
  {
   "cell_type": "markdown",
   "metadata": {},
   "source": [
    "### Function:Train"
   ]
  },
  {
   "cell_type": "code",
   "execution_count": 4,
   "metadata": {},
   "outputs": [],
   "source": [
    "#%%% Model config\n",
    "def train(model_file_name,X_train,y_train,embedding_dim,batch_size,num_epochs,tcn_num_filters):\n",
    "    '''train model'''\n",
    "    i_dim=X_train.shape[1]\n",
    "    o_dim=y_train.shape[1]\n",
    "\n",
    "    model_ = tcn_model(final_vocab_size, batch_size,embedding_dim, i_dim, o_dim,tcn_num_filters)\n",
    "    history=model_.train(X_train, y_train,X_val, y_val, num_epochs, batch_size)\n",
    "    model_.model.save(model_file_name)\n",
    "    print(\"model saved\")"
   ]
  },
  {
   "cell_type": "markdown",
   "metadata": {},
   "source": [
    "### Function:Evaluate"
   ]
  },
  {
   "cell_type": "code",
   "execution_count": 5,
   "metadata": {},
   "outputs": [],
   "source": [
    "def evaluate_k(dataset,model_path, K=None):\n",
    "    if K!=None:\n",
    "        dataset['diff']=dataset['page_address'].diff() \n",
    "        dataset['1']=[ bool(x) for x in dataset['diff']]# first hit\n",
    "       # K_HITS=5\n",
    "        if K>1:\n",
    "            for i in range(2,K+1):\n",
    "                col=str(i)\n",
    "                col_pre=str(i-1)\n",
    "                dataset['diff']=dataset[col_pre].diff() # second hit: diff2=-1\n",
    "                dataset[col]= dataset[col_pre] | dataset['diff']\n",
    "               # print(dataset)\n",
    "\n",
    "        df_k_hits=dataset.loc[dataset[str(K)]==True]\n",
    "    else:\n",
    "        df_k_hits=dataset\n",
    "    X_test=np.stack(df_k_hits['X'])\n",
    "    y_test=np.stack(df_k_hits['y'])\n",
    "    \n",
    "    model_ = load_model(model_path, custom_objects={'TCN': TCN})\n",
    "    y_score = model_.predict(X_test)\n",
    "    \n",
    "    y_pred_bin=y_score\n",
    "    y_pred_bin[y_pred_bin >= 0.5] = 1\n",
    "    y_pred_bin[y_pred_bin < 0.5] = 0\n",
    "    \n",
    "    #f1_score:tp / (tp + fp)\n",
    "    f1_score_res=f1_score(y_test, y_pred_bin, average='samples')\n",
    "    #recall: tp / (tp + fn)\n",
    "    recall_score_res=recall_score(y_test, y_pred_bin, average='samples')\n",
    "    #precision: tp / (tp + fp)\n",
    "    precision_score_res=precision_score(y_test, y_pred_bin, average='samples',zero_division=0)\n",
    "\n",
    "    #print(\"f1_score:\",f1_score_res)\n",
    "    #print(\"recall_score:\",recall_score_res)\n",
    "    #print(\"precision_score:\",precision_score_res)\n",
    "    return f1_score_res,recall_score_res,precision_score_res"
   ]
  },
  {
   "cell_type": "markdown",
   "metadata": {},
   "source": [
    "### Function: Evaluate k"
   ]
  },
  {
   "cell_type": "code",
   "execution_count": 6,
   "metadata": {},
   "outputs": [],
   "source": [
    "def evaluate_k_hits(df_eva,model_file_name,k_hits):\n",
    "    f_l=[];r_l=[];p_l=[]\n",
    "    for i in tqdm(range(1,k_hits+1)):#65\n",
    "        f,r,p=evaluate_k(df_eva,model_file_name, i)\n",
    "        f_l.append(f);r_l.append(r);p_l.append(p)\n",
    "    \n",
    "    res_dic={'f1 score':f_l,'recall':r_l,'precision':p_l}\n",
    "    df_res=pd.DataFrame(res_dic,columns=['f1 score','recall','precision'])\n",
    "    df_res.to_pickle(eva_save_file)"
   ]
  },
  {
   "cell_type": "markdown",
   "metadata": {},
   "source": [
    "## Configuration"
   ]
  },
  {
   "cell_type": "code",
   "execution_count": 7,
   "metadata": {},
   "outputs": [],
   "source": [
    "M,N=200,64\n",
    "LEN=400000\n",
    "DATA_PATH=\"./dataset_pickle/dataset1_M_\"+str(M)+\"_N_\"+str(N)+\"/\"\n",
    "#\"./dataset_pickle/dataset1_M_500_N_64/\"\n",
    "#XY_SAVE_PATH=DATA_PATH+\"XY/\"\n",
    "MODEL_SAVE_PATH = DATA_PATH+\"model/\"\n",
    "EVA_RESULT_SAVE_PATH = DATA_PATH+\"eva/\"\n",
    "BASELINE_SAVE_DIR = DATA_PATH+\"baseline/\"\n",
    "\n",
    "file_list = sorted(glob.glob(DATA_PATH+\"*.pk\"))\n",
    "\n",
    "if not os.path.exists(MODEL_SAVE_PATH):\n",
    "    os.makedirs(MODEL_SAVE_PATH)\n",
    "\n",
    "if not os.path.exists(EVA_RESULT_SAVE_PATH):\n",
    "    os.makedirs(EVA_RESULT_SAVE_PATH)\n",
    "    \n",
    "if not os.path.exists(BASELINE_SAVE_DIR):\n",
    "    os.makedirs(BASELINE_SAVE_DIR)\n",
    "    \n",
    "\n",
    "    \n",
    "final_vocab_size=2\n",
    "embedding_dim=20\n",
    "batch_size=256\n",
    "num_epochs=2\n",
    "tcn_num_filters = 64\n",
    "k_hits=64"
   ]
  },
  {
   "cell_type": "markdown",
   "metadata": {},
   "source": [
    "## Main"
   ]
  },
  {
   "cell_type": "markdown",
   "metadata": {},
   "source": [
    "## Only evaluate all"
   ]
  },
  {
   "cell_type": "code",
   "execution_count": 8,
   "metadata": {
    "scrolled": true,
    "tags": []
   },
   "outputs": [
    {
     "name": "stdout",
     "output_type": "stream",
     "text": [
      "Start:  ./dataset_pickle/dataset1_M_200_N_64/600.perlbench.pk\n",
      "Binarization completed\n",
      "Look-back window completed\n",
      "Bitmap completed\n",
      "(997, 232) (997, 64)\n",
      "X shape: (498, 232) (249, 232)\n",
      "y shape: (498, 64) (249, 64)\n",
      "Model: \"sequential\"\n",
      "_________________________________________________________________\n",
      "Layer (type)                 Output Shape              Param #   \n",
      "=================================================================\n",
      "embedding (Embedding)        (None, 232, 20)           40        \n",
      "_________________________________________________________________\n",
      "tcn (TCN)                    (None, 64)                165824    \n",
      "_________________________________________________________________\n",
      "dropout (Dropout)            (None, 64)                0         \n",
      "_________________________________________________________________\n",
      "dense (Dense)                (None, 64)                4160      \n",
      "=================================================================\n",
      "Total params: 170,024\n",
      "Trainable params: 170,024\n",
      "Non-trainable params: 0\n",
      "_________________________________________________________________\n",
      "Train on 498 samples, validate on 249 samples\n",
      "Epoch 1/2\n",
      "498/498 [==============================] - 10s 20ms/sample - loss: 0.6679 - accuracy: 0.6042 - val_loss: 0.5721 - val_accuracy: 0.7445\n",
      "Epoch 2/2\n",
      "498/498 [==============================] - 4s 8ms/sample - loss: 0.5691 - accuracy: 0.7097 - val_loss: 0.4573 - val_accuracy: 0.8113\n",
      "model saved\n"
     ]
    },
    {
     "ename": "ValueError",
     "evalue": "Unknown layer: TCN",
     "output_type": "error",
     "traceback": [
      "\u001b[0;31m---------------------------------------------------------------------------\u001b[0m",
      "\u001b[0;31mValueError\u001b[0m                                Traceback (most recent call last)",
      "\u001b[0;32m<ipython-input-8-4a9a054ea958>\u001b[0m in \u001b[0;36m<module>\u001b[0;34m\u001b[0m\n\u001b[1;32m     10\u001b[0m     \u001b[0mX_train\u001b[0m\u001b[0;34m,\u001b[0m\u001b[0my_train\u001b[0m\u001b[0;34m,\u001b[0m\u001b[0mX_val\u001b[0m\u001b[0;34m,\u001b[0m\u001b[0my_val\u001b[0m \u001b[0;34m=\u001b[0m \u001b[0mdf_to_XY\u001b[0m\u001b[0;34m(\u001b[0m\u001b[0mdf_train\u001b[0m\u001b[0;34m,\u001b[0m\u001b[0mdf_val\u001b[0m\u001b[0;34m)\u001b[0m\u001b[0;34m\u001b[0m\u001b[0;34m\u001b[0m\u001b[0m\n\u001b[1;32m     11\u001b[0m     \u001b[0mtrain\u001b[0m\u001b[0;34m(\u001b[0m\u001b[0mmodel_file_name\u001b[0m\u001b[0;34m,\u001b[0m\u001b[0mX_train\u001b[0m\u001b[0;34m,\u001b[0m\u001b[0my_train\u001b[0m\u001b[0;34m,\u001b[0m\u001b[0membedding_dim\u001b[0m\u001b[0;34m,\u001b[0m\u001b[0mbatch_size\u001b[0m\u001b[0;34m,\u001b[0m\u001b[0mnum_epochs\u001b[0m\u001b[0;34m,\u001b[0m\u001b[0mtcn_num_filters\u001b[0m\u001b[0;34m)\u001b[0m\u001b[0;34m\u001b[0m\u001b[0;34m\u001b[0m\u001b[0m\n\u001b[0;32m---> 12\u001b[0;31m     \u001b[0mf\u001b[0m\u001b[0;34m,\u001b[0m\u001b[0mr\u001b[0m\u001b[0;34m,\u001b[0m\u001b[0mp\u001b[0m \u001b[0;34m=\u001b[0m \u001b[0mevaluate_k\u001b[0m\u001b[0;34m(\u001b[0m\u001b[0mdf_eva\u001b[0m\u001b[0;34m,\u001b[0m\u001b[0mmodel_file_name\u001b[0m\u001b[0;34m)\u001b[0m\u001b[0;34m\u001b[0m\u001b[0;34m\u001b[0m\u001b[0m\n\u001b[0m\u001b[1;32m     13\u001b[0m     \u001b[0mdf_res\u001b[0m\u001b[0;34m[\u001b[0m\u001b[0mapp_name\u001b[0m\u001b[0;34m]\u001b[0m\u001b[0;34m=\u001b[0m\u001b[0;34m[\u001b[0m\u001b[0mf\u001b[0m\u001b[0;34m,\u001b[0m\u001b[0mr\u001b[0m\u001b[0;34m,\u001b[0m\u001b[0mp\u001b[0m\u001b[0;34m]\u001b[0m\u001b[0;34m\u001b[0m\u001b[0;34m\u001b[0m\u001b[0m\n\u001b[1;32m     14\u001b[0m     \u001b[0;31m#evaluate_k_hits(df_eva,model_file_name,k_hits)\u001b[0m\u001b[0;34m\u001b[0m\u001b[0;34m\u001b[0m\u001b[0;34m\u001b[0m\u001b[0m\n",
      "\u001b[0;32m<ipython-input-5-13c4a33b808f>\u001b[0m in \u001b[0;36mevaluate_k\u001b[0;34m(dataset, model_path, K)\u001b[0m\n\u001b[1;32m     18\u001b[0m     \u001b[0my_test\u001b[0m\u001b[0;34m=\u001b[0m\u001b[0mnp\u001b[0m\u001b[0;34m.\u001b[0m\u001b[0mstack\u001b[0m\u001b[0;34m(\u001b[0m\u001b[0mdf_k_hits\u001b[0m\u001b[0;34m[\u001b[0m\u001b[0;34m'y'\u001b[0m\u001b[0;34m]\u001b[0m\u001b[0;34m)\u001b[0m\u001b[0;34m\u001b[0m\u001b[0;34m\u001b[0m\u001b[0m\n\u001b[1;32m     19\u001b[0m \u001b[0;34m\u001b[0m\u001b[0m\n\u001b[0;32m---> 20\u001b[0;31m     \u001b[0mmodel_\u001b[0m \u001b[0;34m=\u001b[0m \u001b[0mload_model\u001b[0m\u001b[0;34m(\u001b[0m\u001b[0mmodel_path\u001b[0m\u001b[0;34m)\u001b[0m\u001b[0;34m\u001b[0m\u001b[0;34m\u001b[0m\u001b[0m\n\u001b[0m\u001b[1;32m     21\u001b[0m     \u001b[0my_score\u001b[0m \u001b[0;34m=\u001b[0m \u001b[0mmodel_\u001b[0m\u001b[0;34m.\u001b[0m\u001b[0mpredict\u001b[0m\u001b[0;34m(\u001b[0m\u001b[0mX_test\u001b[0m\u001b[0;34m)\u001b[0m\u001b[0;34m\u001b[0m\u001b[0;34m\u001b[0m\u001b[0m\n\u001b[1;32m     22\u001b[0m \u001b[0;34m\u001b[0m\u001b[0m\n",
      "\u001b[0;32m~/opt/anaconda3/envs/tcn-research/lib/python3.7/site-packages/tensorflow_core/python/keras/saving/save.py\u001b[0m in \u001b[0;36mload_model\u001b[0;34m(filepath, custom_objects, compile)\u001b[0m\n\u001b[1;32m    144\u001b[0m   if (h5py is not None and (\n\u001b[1;32m    145\u001b[0m       isinstance(filepath, h5py.File) or h5py.is_hdf5(filepath))):\n\u001b[0;32m--> 146\u001b[0;31m     \u001b[0;32mreturn\u001b[0m \u001b[0mhdf5_format\u001b[0m\u001b[0;34m.\u001b[0m\u001b[0mload_model_from_hdf5\u001b[0m\u001b[0;34m(\u001b[0m\u001b[0mfilepath\u001b[0m\u001b[0;34m,\u001b[0m \u001b[0mcustom_objects\u001b[0m\u001b[0;34m,\u001b[0m \u001b[0mcompile\u001b[0m\u001b[0;34m)\u001b[0m\u001b[0;34m\u001b[0m\u001b[0;34m\u001b[0m\u001b[0m\n\u001b[0m\u001b[1;32m    147\u001b[0m \u001b[0;34m\u001b[0m\u001b[0m\n\u001b[1;32m    148\u001b[0m   \u001b[0;32mif\u001b[0m \u001b[0misinstance\u001b[0m\u001b[0;34m(\u001b[0m\u001b[0mfilepath\u001b[0m\u001b[0;34m,\u001b[0m \u001b[0msix\u001b[0m\u001b[0;34m.\u001b[0m\u001b[0mstring_types\u001b[0m\u001b[0;34m)\u001b[0m\u001b[0;34m:\u001b[0m\u001b[0;34m\u001b[0m\u001b[0;34m\u001b[0m\u001b[0m\n",
      "\u001b[0;32m~/opt/anaconda3/envs/tcn-research/lib/python3.7/site-packages/tensorflow_core/python/keras/saving/hdf5_format.py\u001b[0m in \u001b[0;36mload_model_from_hdf5\u001b[0;34m(filepath, custom_objects, compile)\u001b[0m\n\u001b[1;32m    166\u001b[0m     \u001b[0mmodel_config\u001b[0m \u001b[0;34m=\u001b[0m \u001b[0mjson\u001b[0m\u001b[0;34m.\u001b[0m\u001b[0mloads\u001b[0m\u001b[0;34m(\u001b[0m\u001b[0mmodel_config\u001b[0m\u001b[0;34m.\u001b[0m\u001b[0mdecode\u001b[0m\u001b[0;34m(\u001b[0m\u001b[0;34m'utf-8'\u001b[0m\u001b[0;34m)\u001b[0m\u001b[0;34m)\u001b[0m\u001b[0;34m\u001b[0m\u001b[0;34m\u001b[0m\u001b[0m\n\u001b[1;32m    167\u001b[0m     model = model_config_lib.model_from_config(model_config,\n\u001b[0;32m--> 168\u001b[0;31m                                                custom_objects=custom_objects)\n\u001b[0m\u001b[1;32m    169\u001b[0m \u001b[0;34m\u001b[0m\u001b[0m\n\u001b[1;32m    170\u001b[0m     \u001b[0;31m# set weights\u001b[0m\u001b[0;34m\u001b[0m\u001b[0;34m\u001b[0m\u001b[0;34m\u001b[0m\u001b[0m\n",
      "\u001b[0;32m~/opt/anaconda3/envs/tcn-research/lib/python3.7/site-packages/tensorflow_core/python/keras/saving/model_config.py\u001b[0m in \u001b[0;36mmodel_from_config\u001b[0;34m(config, custom_objects)\u001b[0m\n\u001b[1;32m     53\u001b[0m                     '`Sequential.from_config(config)`?')\n\u001b[1;32m     54\u001b[0m   \u001b[0;32mfrom\u001b[0m \u001b[0mtensorflow\u001b[0m\u001b[0;34m.\u001b[0m\u001b[0mpython\u001b[0m\u001b[0;34m.\u001b[0m\u001b[0mkeras\u001b[0m\u001b[0;34m.\u001b[0m\u001b[0mlayers\u001b[0m \u001b[0;32mimport\u001b[0m \u001b[0mdeserialize\u001b[0m  \u001b[0;31m# pylint: disable=g-import-not-at-top\u001b[0m\u001b[0;34m\u001b[0m\u001b[0;34m\u001b[0m\u001b[0m\n\u001b[0;32m---> 55\u001b[0;31m   \u001b[0;32mreturn\u001b[0m \u001b[0mdeserialize\u001b[0m\u001b[0;34m(\u001b[0m\u001b[0mconfig\u001b[0m\u001b[0;34m,\u001b[0m \u001b[0mcustom_objects\u001b[0m\u001b[0;34m=\u001b[0m\u001b[0mcustom_objects\u001b[0m\u001b[0;34m)\u001b[0m\u001b[0;34m\u001b[0m\u001b[0;34m\u001b[0m\u001b[0m\n\u001b[0m\u001b[1;32m     56\u001b[0m \u001b[0;34m\u001b[0m\u001b[0m\n\u001b[1;32m     57\u001b[0m \u001b[0;34m\u001b[0m\u001b[0m\n",
      "\u001b[0;32m~/opt/anaconda3/envs/tcn-research/lib/python3.7/site-packages/tensorflow_core/python/keras/layers/serialization.py\u001b[0m in \u001b[0;36mdeserialize\u001b[0;34m(config, custom_objects)\u001b[0m\n\u001b[1;32m    100\u001b[0m       \u001b[0mmodule_objects\u001b[0m\u001b[0;34m=\u001b[0m\u001b[0mglobs\u001b[0m\u001b[0;34m,\u001b[0m\u001b[0;34m\u001b[0m\u001b[0;34m\u001b[0m\u001b[0m\n\u001b[1;32m    101\u001b[0m       \u001b[0mcustom_objects\u001b[0m\u001b[0;34m=\u001b[0m\u001b[0mcustom_objects\u001b[0m\u001b[0;34m,\u001b[0m\u001b[0;34m\u001b[0m\u001b[0;34m\u001b[0m\u001b[0m\n\u001b[0;32m--> 102\u001b[0;31m       printable_module_name='layer')\n\u001b[0m",
      "\u001b[0;32m~/opt/anaconda3/envs/tcn-research/lib/python3.7/site-packages/tensorflow_core/python/keras/utils/generic_utils.py\u001b[0m in \u001b[0;36mdeserialize_keras_object\u001b[0;34m(identifier, module_objects, custom_objects, printable_module_name)\u001b[0m\n\u001b[1;32m    189\u001b[0m             custom_objects=dict(\n\u001b[1;32m    190\u001b[0m                 \u001b[0mlist\u001b[0m\u001b[0;34m(\u001b[0m\u001b[0m_GLOBAL_CUSTOM_OBJECTS\u001b[0m\u001b[0;34m.\u001b[0m\u001b[0mitems\u001b[0m\u001b[0;34m(\u001b[0m\u001b[0;34m)\u001b[0m\u001b[0;34m)\u001b[0m \u001b[0;34m+\u001b[0m\u001b[0;34m\u001b[0m\u001b[0;34m\u001b[0m\u001b[0m\n\u001b[0;32m--> 191\u001b[0;31m                 list(custom_objects.items())))\n\u001b[0m\u001b[1;32m    192\u001b[0m       \u001b[0;32mwith\u001b[0m \u001b[0mCustomObjectScope\u001b[0m\u001b[0;34m(\u001b[0m\u001b[0mcustom_objects\u001b[0m\u001b[0;34m)\u001b[0m\u001b[0;34m:\u001b[0m\u001b[0;34m\u001b[0m\u001b[0;34m\u001b[0m\u001b[0m\n\u001b[1;32m    193\u001b[0m         \u001b[0;32mreturn\u001b[0m \u001b[0mcls\u001b[0m\u001b[0;34m.\u001b[0m\u001b[0mfrom_config\u001b[0m\u001b[0;34m(\u001b[0m\u001b[0mcls_config\u001b[0m\u001b[0;34m)\u001b[0m\u001b[0;34m\u001b[0m\u001b[0;34m\u001b[0m\u001b[0m\n",
      "\u001b[0;32m~/opt/anaconda3/envs/tcn-research/lib/python3.7/site-packages/tensorflow_core/python/keras/engine/sequential.py\u001b[0m in \u001b[0;36mfrom_config\u001b[0;34m(cls, config, custom_objects)\u001b[0m\n\u001b[1;32m    367\u001b[0m     \u001b[0;32mfor\u001b[0m \u001b[0mlayer_config\u001b[0m \u001b[0;32min\u001b[0m \u001b[0mlayer_configs\u001b[0m\u001b[0;34m:\u001b[0m\u001b[0;34m\u001b[0m\u001b[0;34m\u001b[0m\u001b[0m\n\u001b[1;32m    368\u001b[0m       layer = layer_module.deserialize(layer_config,\n\u001b[0;32m--> 369\u001b[0;31m                                        custom_objects=custom_objects)\n\u001b[0m\u001b[1;32m    370\u001b[0m       \u001b[0mmodel\u001b[0m\u001b[0;34m.\u001b[0m\u001b[0madd\u001b[0m\u001b[0;34m(\u001b[0m\u001b[0mlayer\u001b[0m\u001b[0;34m)\u001b[0m\u001b[0;34m\u001b[0m\u001b[0;34m\u001b[0m\u001b[0m\n\u001b[1;32m    371\u001b[0m     \u001b[0;32mif\u001b[0m \u001b[0;32mnot\u001b[0m \u001b[0mmodel\u001b[0m\u001b[0;34m.\u001b[0m\u001b[0minputs\u001b[0m \u001b[0;32mand\u001b[0m \u001b[0mbuild_input_shape\u001b[0m\u001b[0;34m:\u001b[0m\u001b[0;34m\u001b[0m\u001b[0;34m\u001b[0m\u001b[0m\n",
      "\u001b[0;32m~/opt/anaconda3/envs/tcn-research/lib/python3.7/site-packages/tensorflow_core/python/keras/layers/serialization.py\u001b[0m in \u001b[0;36mdeserialize\u001b[0;34m(config, custom_objects)\u001b[0m\n\u001b[1;32m    100\u001b[0m       \u001b[0mmodule_objects\u001b[0m\u001b[0;34m=\u001b[0m\u001b[0mglobs\u001b[0m\u001b[0;34m,\u001b[0m\u001b[0;34m\u001b[0m\u001b[0;34m\u001b[0m\u001b[0m\n\u001b[1;32m    101\u001b[0m       \u001b[0mcustom_objects\u001b[0m\u001b[0;34m=\u001b[0m\u001b[0mcustom_objects\u001b[0m\u001b[0;34m,\u001b[0m\u001b[0;34m\u001b[0m\u001b[0;34m\u001b[0m\u001b[0m\n\u001b[0;32m--> 102\u001b[0;31m       printable_module_name='layer')\n\u001b[0m",
      "\u001b[0;32m~/opt/anaconda3/envs/tcn-research/lib/python3.7/site-packages/tensorflow_core/python/keras/utils/generic_utils.py\u001b[0m in \u001b[0;36mdeserialize_keras_object\u001b[0;34m(identifier, module_objects, custom_objects, printable_module_name)\u001b[0m\n\u001b[1;32m    178\u001b[0m     \u001b[0mconfig\u001b[0m \u001b[0;34m=\u001b[0m \u001b[0midentifier\u001b[0m\u001b[0;34m\u001b[0m\u001b[0;34m\u001b[0m\u001b[0m\n\u001b[1;32m    179\u001b[0m     (cls, cls_config) = class_and_config_for_serialized_keras_object(\n\u001b[0;32m--> 180\u001b[0;31m         config, module_objects, custom_objects, printable_module_name)\n\u001b[0m\u001b[1;32m    181\u001b[0m \u001b[0;34m\u001b[0m\u001b[0m\n\u001b[1;32m    182\u001b[0m     \u001b[0;32mif\u001b[0m \u001b[0mhasattr\u001b[0m\u001b[0;34m(\u001b[0m\u001b[0mcls\u001b[0m\u001b[0;34m,\u001b[0m \u001b[0;34m'from_config'\u001b[0m\u001b[0;34m)\u001b[0m\u001b[0;34m:\u001b[0m\u001b[0;34m\u001b[0m\u001b[0;34m\u001b[0m\u001b[0m\n",
      "\u001b[0;32m~/opt/anaconda3/envs/tcn-research/lib/python3.7/site-packages/tensorflow_core/python/keras/utils/generic_utils.py\u001b[0m in \u001b[0;36mclass_and_config_for_serialized_keras_object\u001b[0;34m(config, module_objects, custom_objects, printable_module_name)\u001b[0m\n\u001b[1;32m    163\u001b[0m     \u001b[0mcls\u001b[0m \u001b[0;34m=\u001b[0m \u001b[0mmodule_objects\u001b[0m\u001b[0;34m.\u001b[0m\u001b[0mget\u001b[0m\u001b[0;34m(\u001b[0m\u001b[0mclass_name\u001b[0m\u001b[0;34m)\u001b[0m\u001b[0;34m\u001b[0m\u001b[0;34m\u001b[0m\u001b[0m\n\u001b[1;32m    164\u001b[0m     \u001b[0;32mif\u001b[0m \u001b[0mcls\u001b[0m \u001b[0;32mis\u001b[0m \u001b[0;32mNone\u001b[0m\u001b[0;34m:\u001b[0m\u001b[0;34m\u001b[0m\u001b[0;34m\u001b[0m\u001b[0m\n\u001b[0;32m--> 165\u001b[0;31m       \u001b[0;32mraise\u001b[0m \u001b[0mValueError\u001b[0m\u001b[0;34m(\u001b[0m\u001b[0;34m'Unknown '\u001b[0m \u001b[0;34m+\u001b[0m \u001b[0mprintable_module_name\u001b[0m \u001b[0;34m+\u001b[0m \u001b[0;34m': '\u001b[0m \u001b[0;34m+\u001b[0m \u001b[0mclass_name\u001b[0m\u001b[0;34m)\u001b[0m\u001b[0;34m\u001b[0m\u001b[0;34m\u001b[0m\u001b[0m\n\u001b[0m\u001b[1;32m    166\u001b[0m   \u001b[0;32mreturn\u001b[0m \u001b[0;34m(\u001b[0m\u001b[0mcls\u001b[0m\u001b[0;34m,\u001b[0m \u001b[0mconfig\u001b[0m\u001b[0;34m[\u001b[0m\u001b[0;34m'config'\u001b[0m\u001b[0;34m]\u001b[0m\u001b[0;34m)\u001b[0m\u001b[0;34m\u001b[0m\u001b[0;34m\u001b[0m\u001b[0m\n\u001b[1;32m    167\u001b[0m \u001b[0;34m\u001b[0m\u001b[0m\n",
      "\u001b[0;31mValueError\u001b[0m: Unknown layer: TCN"
     ]
    }
   ],
   "source": [
    "Length=1000\n",
    "df_res=pd.DataFrame([])\n",
    "for file in file_list:\n",
    "    print(\"Start: \", file)\n",
    "    app_name=file.split(\".pk\")[0].split(\"/\")[-1]\n",
    "    model_file_name = MODEL_SAVE_PATH+app_name+\".h5\"\n",
    "    eva_save_file = EVA_RESULT_SAVE_PATH + app_name+\"eva.pk\"\n",
    "    \n",
    "    df_train,df_val,df_eva=gen_XY(file,app_name,Length)\n",
    "    X_train,y_train,X_val,y_val = df_to_XY(df_train,df_val) \n",
    "    train(model_file_name,X_train,y_train,embedding_dim,batch_size,num_epochs,tcn_num_filters)\n",
    "    f,r,p = evaluate_k(df_eva,model_file_name)\n",
    "    df_res[app_name]=[f,r,p]\n",
    "    #evaluate_k_hits(df_eva,model_file_name,k_hits)\n",
    "    print(\"Done for: \", file)\n",
    "    np_save_path=BASELINE_SAVE_DIR+\"eva_all.pk\"\n",
    "    df_res.to_pickle(np_save_path)"
   ]
  },
  {
   "cell_type": "code",
   "execution_count": null,
   "metadata": {},
   "outputs": [],
   "source": [
    "np_save_path=BASELINE_SAVE_DIR+\"eva_all.pk\"\n",
    "df_res=pd.read_pickle(np_save_path)\n",
    "df_res"
   ]
  },
  {
   "cell_type": "code",
   "execution_count": null,
   "metadata": {},
   "outputs": [],
   "source": []
  }
 ],
 "metadata": {
  "kernelspec": {
   "display_name": "Python 3",
   "language": "python",
   "name": "python3"
  },
  "language_info": {
   "codemirror_mode": {
    "name": "ipython",
    "version": 3
   },
   "file_extension": ".py",
   "mimetype": "text/x-python",
   "name": "python",
   "nbconvert_exporter": "python",
   "pygments_lexer": "ipython3",
   "version": "3.7.9"
  }
 },
 "nbformat": 4,
 "nbformat_minor": 4
}
