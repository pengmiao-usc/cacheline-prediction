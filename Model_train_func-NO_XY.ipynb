{
 "cells": [
  {
   "cell_type": "markdown",
   "metadata": {},
   "source": [
    "# Train model using trace dataset, funtion,Feb 01,2021"
   ]
  },
  {
   "cell_type": "markdown",
   "metadata": {},
   "source": [
    "# XY no saved, since it take too much storage"
   ]
  },
  {
   "cell_type": "code",
   "execution_count": 1,
   "metadata": {},
   "outputs": [
    {
     "name": "stderr",
     "output_type": "stream",
     "text": [
      "Using TensorFlow backend.\n"
     ]
    }
   ],
   "source": [
    "import csv\n",
    "import os\n",
    "import pandas as pd\n",
    "import numpy as np\n",
    "from numpy import argmax\n",
    "import pickle\n",
    "import pdb\n",
    "import functions as f\n",
    "from functions import convert_to_binary,create_windowed_dataset\n",
    "import glob\n",
    "from tqdm import tqdm\n",
    "from tensorflow.keras import Model, Input\n",
    "from tensorflow.keras.datasets import imdb\n",
    "from tensorflow.keras.layers import Dense, Dropout, Embedding\n",
    "from tensorflow.keras.preprocessing import sequence\n",
    "from tcn import TCN\n",
    "from tensorflow.keras.models import load_model, Sequential\n",
    "from sklearn.metrics import roc_curve,f1_score,recall_score,precision_score,accuracy_score\n",
    "import pandas as pd\n",
    "from tcn_model import tcn_model\n",
    "pd.options.mode.chained_assignment = None \n"
   ]
  },
  {
   "cell_type": "markdown",
   "metadata": {},
   "source": [
    "## Functions"
   ]
  },
  {
   "cell_type": "markdown",
   "metadata": {},
   "source": [
    "### Function: generate X and Y"
   ]
  },
  {
   "cell_type": "code",
   "execution_count": 2,
   "metadata": {},
   "outputs": [],
   "source": [
    "#data_file=file_list[1]\n",
    "\n",
    "def gen_XY(data_file,file_name,Length=None):\n",
    "    from functions import convert_to_binary,create_windowed_dataset\n",
    "    if Length!=None:\n",
    "        df = pd.read_pickle(data_file)[0:Length]\n",
    "    else:\n",
    "        df = pd.read_pickle(data_file)\n",
    "    #%% Binarize \n",
    "\n",
    "    BINARY_BIT_SIZE = 64-6\n",
    "    look_back = 3\n",
    "\n",
    "    #b_list = [\"delta_token\", \"page_address\", \"page_offset\", \"cache_line_index\"]\n",
    "    b_list = [\"page_cache_index\"]\n",
    "    for item in b_list:\n",
    "        X = np.array(df[item]).reshape(-1,1)\n",
    "        s=item+\"_bin\"\n",
    "        df[s]=list(convert_to_binary(data=X,bit_size=BINARY_BIT_SIZE))\n",
    "    print(\"Binarization completed\")\n",
    "    #%% X: input data\n",
    "    X = create_windowed_dataset(list(df[\"page_cache_index_bin\"]), look_back)\n",
    "    X = X.reshape(len(X),-1)\n",
    "    print(\"Look-back window completed\")\n",
    "    BITMAP_SIZE = 64\n",
    "    def to_bitmap(n): \n",
    "        l0=np.zeros((BITMAP_SIZE),dtype = int)\n",
    "        if(len(n)>0):\n",
    "            for x in n:\n",
    "                l0[x]=1\n",
    "            l1=list(l0)\n",
    "            l1.reverse()\n",
    "            return l1\n",
    "        else:\n",
    "            return list(l0)\n",
    "    print(\"Bitmap completed\")   \n",
    "    numbers=list(df[\"label\"][look_back:])\n",
    "    result = map(to_bitmap, numbers) \n",
    "    #print(list(result)) \n",
    "\n",
    "    #df[\"label_bitmap\"]=list(result)\n",
    "\n",
    "    y=np.array(list(result))\n",
    "    df_x=df[look_back:]\n",
    "    df_x['X']=list(X)\n",
    "    df_x['y']=list(y)\n",
    "\n",
    "    print(X.shape,y.shape)\n",
    "    #df_x.to_pickle(XY_SAVE_PATH+file_name+\"_xy.pk\")\n",
    "    #print(\"pickle saved:\",XY_SAVE_PATH+file_name+\"_xy.pk\")\n",
    "    \n",
    "    split1=len(df_x)//2\n",
    "    split2=len(df_x)*3//4\n",
    "    \n",
    "    df_train=df_x[0:split1]\n",
    "    df_val=df_x[split1:split2]\n",
    "    df_eva=df_x[split2:]\n",
    "    \n",
    "    return df_train,df_val,df_eva"
   ]
  },
  {
   "cell_type": "markdown",
   "metadata": {},
   "source": [
    "### Function: Train_test_split "
   ]
  },
  {
   "cell_type": "code",
   "execution_count": 3,
   "metadata": {},
   "outputs": [],
   "source": [
    "def df_to_XY(df_train,df_val):\n",
    "\n",
    "    X_train = np.stack(df_train['X'])\n",
    "    y_train =np.stack(df_train['y'])\n",
    "\n",
    "    X_val = np.stack(df_val['X'])\n",
    "    y_val = np.stack(df_val['y'])\n",
    "\n",
    "    print(\"X shape:\",X_train.shape,X_val.shape)\n",
    "    print(\"y shape:\",y_train.shape,y_val.shape)\n",
    "    \n",
    "    return X_train,y_train,X_val,y_val"
   ]
  },
  {
   "cell_type": "markdown",
   "metadata": {},
   "source": [
    "### Function:Train"
   ]
  },
  {
   "cell_type": "code",
   "execution_count": 4,
   "metadata": {},
   "outputs": [],
   "source": [
    "#%%% Model config\n",
    "def train(model_file_name,X_train,y_train,embedding_dim,batch_size,num_epochs,tcn_num_filters):\n",
    "    '''train model'''\n",
    "    i_dim=X_train.shape[1]\n",
    "    o_dim=y_train.shape[1]\n",
    "\n",
    "    model_ = tcn_model(final_vocab_size, batch_size,embedding_dim, i_dim, o_dim,tcn_num_filters)\n",
    "    history=model_.train(X_train, y_train,X_val, y_val, num_epochs, batch_size)\n",
    "    model_.model.save(model_file_name)\n",
    "    print(\"model saved\")"
   ]
  },
  {
   "cell_type": "markdown",
   "metadata": {},
   "source": [
    "### Function:Evaluate"
   ]
  },
  {
   "cell_type": "code",
   "execution_count": 9,
   "metadata": {},
   "outputs": [],
   "source": [
    "def evaluate_k(dataset,model_path, K=None):\n",
    "    if K!=None:\n",
    "        dataset['diff']=dataset['page_address'].diff() \n",
    "        dataset['1']=[ bool(x) for x in dataset['diff']]# first hit\n",
    "       # K_HITS=5\n",
    "        if K>1:\n",
    "            for i in range(2,K+1):\n",
    "                col=str(i)\n",
    "                col_pre=str(i-1)\n",
    "                dataset['diff']=dataset[col_pre].diff() # second hit: diff2=-1\n",
    "                dataset[col]= dataset[col_pre] | dataset['diff']\n",
    "               # print(dataset)\n",
    "\n",
    "        df_k_hits=dataset.loc[dataset[str(K)]==True]\n",
    "    else:\n",
    "        df_k_hits=dataset\n",
    "    X_test=np.stack(df_k_hits['X'])\n",
    "    y_test=np.stack(df_k_hits['y'])\n",
    "    \n",
    "    model_ = load_model(model_path, custom_objects={'TCN': TCN})\n",
    "    y_score = model_.predict(X_test)\n",
    "    \n",
    "    y_pred_bin=y_score\n",
    "    y_pred_bin[y_pred_bin >= 0.5] = 1\n",
    "    y_pred_bin[y_pred_bin < 0.5] = 0\n",
    "    \n",
    "    #f1_score:tp / (tp + fp)\n",
    "    f1_score_res=f1_score(y_test, y_pred_bin, average='samples')\n",
    "    #recall: tp / (tp + fn)\n",
    "    recall_score_res=recall_score(y_test, y_pred_bin, average='samples')\n",
    "    #precision: tp / (tp + fp)\n",
    "    precision_score_res=precision_score(y_test, y_pred_bin, average='samples',zero_division=0)\n",
    "\n",
    "    #print(\"f1_score:\",f1_score_res)\n",
    "    #print(\"recall_score:\",recall_score_res)\n",
    "    #print(\"precision_score:\",precision_score_res)\n",
    "    return f1_score_res,recall_score_res,precision_score_res"
   ]
  },
  {
   "cell_type": "markdown",
   "metadata": {},
   "source": [
    "### Function: Evaluate k"
   ]
  },
  {
   "cell_type": "code",
   "execution_count": 10,
   "metadata": {},
   "outputs": [],
   "source": [
    "def evaluate_k_hits(df_eva,model_file_name,k_hits):\n",
    "    f_l=[];r_l=[];p_l=[]\n",
    "    for i in tqdm(range(1,k_hits+1)):#65\n",
    "        f,r,p=evaluate_k(df_eva,model_file_name, i)\n",
    "        f_l.append(f);r_l.append(r);p_l.append(p)\n",
    "    \n",
    "    res_dic={'f1 score':f_l,'recall':r_l,'precision':p_l}\n",
    "    df_res=pd.DataFrame(res_dic,columns=['f1 score','recall','precision'])\n",
    "    df_res.to_pickle(eva_save_file)"
   ]
  },
  {
   "cell_type": "markdown",
   "metadata": {},
   "source": [
    "## Configuration"
   ]
  },
  {
   "cell_type": "code",
   "execution_count": 11,
   "metadata": {},
   "outputs": [],
   "source": [
    "M,N=200,64\n",
    "LEN=400000\n",
    "DATA_PATH=\"./dataset_pickle/dataset1_M_\"+str(M)+\"_N_\"+str(N)+\"/\"\n",
    "#\"./dataset_pickle/dataset1_M_500_N_64/\"\n",
    "#XY_SAVE_PATH=DATA_PATH+\"XY/\"\n",
    "MODEL_SAVE_PATH = DATA_PATH+\"model/\"\n",
    "EVA_RESULT_SAVE_PATH = DATA_PATH+\"eva/\"\n",
    "BASELINE_SAVE_DIR = DATA_PATH+\"baseline/\"\n",
    "\n",
    "file_list = sorted(glob.glob(DATA_PATH+\"*.pk\"))\n",
    "\n",
    "if not os.path.exists(MODEL_SAVE_PATH):\n",
    "    os.makedirs(MODEL_SAVE_PATH)\n",
    "\n",
    "if not os.path.exists(EVA_RESULT_SAVE_PATH):\n",
    "    os.makedirs(EVA_RESULT_SAVE_PATH)\n",
    "    \n",
    "if not os.path.exists(BASELINE_SAVE_DIR):\n",
    "    os.makedirs(BASELINE_SAVE_DIR)\n",
    "    \n",
    "\n",
    "    \n",
    "final_vocab_size=2\n",
    "embedding_dim=20\n",
    "batch_size=256\n",
    "num_epochs=2\n",
    "tcn_num_filters = 64\n",
    "k_hits=64"
   ]
  },
  {
   "cell_type": "markdown",
   "metadata": {},
   "source": [
    "## Main"
   ]
  },
  {
   "cell_type": "markdown",
   "metadata": {},
   "source": [
    "## Only evaluate all"
   ]
  },
  {
   "cell_type": "code",
   "execution_count": 12,
   "metadata": {
    "scrolled": true,
    "tags": []
   },
   "outputs": [
    {
     "name": "stdout",
     "output_type": "stream",
     "text": [
      "Start:  ./dataset_pickle/dataset1_M_200_N_64/600.perlbench.pk\n",
      "Binarization completed\n",
      "Look-back window completed\n",
      "Bitmap completed\n",
      "(997, 232) (997, 64)\n",
      "X shape: (498, 232) (249, 232)\n",
      "y shape: (498, 64) (249, 64)\n",
      "Model: \"sequential_1\"\n",
      "_________________________________________________________________\n",
      "Layer (type)                 Output Shape              Param #   \n",
      "=================================================================\n",
      "embedding_1 (Embedding)      (None, 232, 20)           40        \n",
      "_________________________________________________________________\n",
      "tcn_1 (TCN)                  (None, 64)                165824    \n",
      "_________________________________________________________________\n",
      "dropout_1 (Dropout)          (None, 64)                0         \n",
      "_________________________________________________________________\n",
      "dense_1 (Dense)              (None, 64)                4160      \n",
      "=================================================================\n",
      "Total params: 170,024\n",
      "Trainable params: 170,024\n",
      "Non-trainable params: 0\n",
      "_________________________________________________________________\n",
      "Train on 498 samples, validate on 249 samples\n",
      "Epoch 1/2\n",
      "498/498 [==============================] - 10s 21ms/sample - loss: 0.8284 - accuracy: 0.4371 - val_loss: 0.7014 - val_accuracy: 0.5343\n",
      "Epoch 2/2\n",
      "498/498 [==============================] - 4s 7ms/sample - loss: 0.6946 - accuracy: 0.5468 - val_loss: 0.6733 - val_accuracy: 0.6386\n",
      "model saved\n",
      "Done for:  ./dataset_pickle/dataset1_M_200_N_64/600.perlbench.pk\n"
     ]
    }
   ],
   "source": [
    "Length=1000\n",
    "df_res=pd.DataFrame([])\n",
    "for file in file_list:\n",
    "    print(\"Start: \", file)\n",
    "    app_name=file.split(\".pk\")[0].split(\"/\")[-1]\n",
    "    model_file_name = MODEL_SAVE_PATH+app_name+\".h5\"\n",
    "    eva_save_file = EVA_RESULT_SAVE_PATH + app_name+\"eva.pk\"\n",
    "    \n",
    "    df_train,df_val,df_eva=gen_XY(file,app_name,Length)\n",
    "    X_train,y_train,X_val,y_val = df_to_XY(df_train,df_val) \n",
    "    train(model_file_name,X_train,y_train,embedding_dim,batch_size,num_epochs,tcn_num_filters)\n",
    "    f,r,p = evaluate_k(df_eva,model_file_name)\n",
    "    df_res[app_name]=[f,r,p]\n",
    "    #evaluate_k_hits(df_eva,model_file_name,k_hits)\n",
    "    print(\"Done for: \", file)\n",
    "    np_save_path=BASELINE_SAVE_DIR+\"eva_all.pk\"\n",
    "    df_res.to_pickle(np_save_path)"
   ]
  },
  {
   "cell_type": "code",
   "execution_count": 13,
   "metadata": {},
   "outputs": [
    {
     "data": {
      "text/html": [
       "<div>\n",
       "<style scoped>\n",
       "    .dataframe tbody tr th:only-of-type {\n",
       "        vertical-align: middle;\n",
       "    }\n",
       "\n",
       "    .dataframe tbody tr th {\n",
       "        vertical-align: top;\n",
       "    }\n",
       "\n",
       "    .dataframe thead th {\n",
       "        text-align: right;\n",
       "    }\n",
       "</style>\n",
       "<table border=\"1\" class=\"dataframe\">\n",
       "  <thead>\n",
       "    <tr style=\"text-align: right;\">\n",
       "      <th></th>\n",
       "      <th>600.perlbench</th>\n",
       "    </tr>\n",
       "  </thead>\n",
       "  <tbody>\n",
       "    <tr>\n",
       "      <th>0</th>\n",
       "      <td>0.304429</td>\n",
       "    </tr>\n",
       "    <tr>\n",
       "      <th>1</th>\n",
       "      <td>0.641549</td>\n",
       "    </tr>\n",
       "    <tr>\n",
       "      <th>2</th>\n",
       "      <td>0.219369</td>\n",
       "    </tr>\n",
       "  </tbody>\n",
       "</table>\n",
       "</div>"
      ],
      "text/plain": [
       "   600.perlbench\n",
       "0       0.304429\n",
       "1       0.641549\n",
       "2       0.219369"
      ]
     },
     "execution_count": 13,
     "metadata": {},
     "output_type": "execute_result"
    }
   ],
   "source": [
    "np_save_path=BASELINE_SAVE_DIR+\"eva_all.pk\"\n",
    "df_res=pd.read_pickle(np_save_path)\n",
    "df_res"
   ]
  },
  {
   "cell_type": "code",
   "execution_count": null,
   "metadata": {},
   "outputs": [],
   "source": []
  }
 ],
 "metadata": {
  "kernelspec": {
   "display_name": "Python 3",
   "language": "python",
   "name": "python3"
  },
  "language_info": {
   "codemirror_mode": {
    "name": "ipython",
    "version": 3
   },
   "file_extension": ".py",
   "mimetype": "text/x-python",
   "name": "python",
   "nbconvert_exporter": "python",
   "pygments_lexer": "ipython3",
   "version": "3.7.9"
  }
 },
 "nbformat": 4,
 "nbformat_minor": 4
}
